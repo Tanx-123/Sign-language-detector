{
 "cells": [
  {
   "cell_type": "code",
   "execution_count": 1,
   "metadata": {},
   "outputs": [],
   "source": [
    "import os\n",
    "import cv2\n",
    "import numpy as np\n",
    "from sklearn.ensemble import RandomForestClassifier\n",
    "from sklearn.model_selection import train_test_split\n",
    "from sklearn.metrics import accuracy_score\n",
    "import mediapipe as mp\n",
    "import joblib\n",
    "from sklearn.preprocessing import LabelEncoder\n",
    "import random"
   ]
  },
  {
   "cell_type": "code",
   "execution_count": 2,
   "metadata": {},
   "outputs": [],
   "source": [
    "# Load Mediapipe Hands module\n",
    "mp_hands = mp.solutions.hands\n",
    "mp_drawing = mp.solutions.drawing_utils\n",
    "mp_drawing_styles = mp.solutions.drawing_styles\n",
    "# Initialize hands module with static_image_mode and min_detection_confidence\n",
    "hands = mp_hands.Hands(static_image_mode=True, min_detection_confidence=0.3)\n",
    "\n",
    "DATA_DIR = \"asl_alphabet_train\"\n",
    "data = []\n",
    "labels = []\n",
    "\n",
    "# Function to process an image and return hand landmarks\n",
    "def process_image(image):\n",
    "    data_aux = []\n",
    "    x_ = []\n",
    "    y_ = []\n",
    "\n",
    "    results = hands.process(image)\n",
    "\n",
    "    if results.multi_hand_landmarks:\n",
    "        for hand_landmarks in results.multi_hand_landmarks:\n",
    "            for i in range(len(hand_landmarks.landmark)):\n",
    "                x = hand_landmarks.landmark[i].x\n",
    "                y = hand_landmarks.landmark[i].y\n",
    "\n",
    "                x_.append(x)\n",
    "                y_.append(y)\n",
    "\n",
    "        for i in range(len(hand_landmarks.landmark)):\n",
    "            x = hand_landmarks.landmark[i].x\n",
    "            y = hand_landmarks.landmark[i].y\n",
    "            data_aux.append(x - min(x_))\n",
    "            data_aux.append(y - min(y_))\n",
    "\n",
    "    return data_aux\n",
    "\n",
    "# Iterate over directories in the data folder\n",
    "for dir_ in os.listdir(DATA_DIR):\n",
    "    img_paths = os.listdir(os.path.join(DATA_DIR, dir_))\n",
    "    selected_img_paths = random.sample(img_paths, min(1000, len(img_paths)))\n",
    "\n",
    "    for img_path in selected_img_paths:\n",
    "        # Process the original image\n",
    "        img = cv2.imread(os.path.join(DATA_DIR, dir_, img_path))\n",
    "        img_rgb = cv2.cvtColor(img, cv2.COLOR_BGR2RGB)\n",
    "        original_data_aux = process_image(img_rgb)\n",
    "\n",
    "        if original_data_aux:\n",
    "            data.append(original_data_aux)\n",
    "            labels.append(dir_)\n",
    "\n",
    "        # Process the horizontally flipped image\n",
    "        flipped_img = cv2.flip(img, 1)  # Flip horizontally\n",
    "        flipped_img_rgb = cv2.cvtColor(flipped_img, cv2.COLOR_BGR2RGB)\n",
    "        flipped_data_aux = process_image(flipped_img_rgb)\n",
    "\n",
    "        if flipped_data_aux:\n",
    "            data.append(flipped_data_aux)\n",
    "            labels.append(dir_)\n",
    "\n",
    "data = np.asarray(data)\n",
    "labels = np.asarray(labels)"
   ]
  },
  {
   "cell_type": "code",
   "execution_count": 3,
   "metadata": {},
   "outputs": [
    {
     "name": "stdout",
     "output_type": "stream",
     "text": [
      "Label encoder saved.\n"
     ]
    }
   ],
   "source": [
    "label_encoder = LabelEncoder()\n",
    "labels = label_encoder.fit_transform(labels)\n",
    "\n",
    "joblib.dump(label_encoder, 'label_encoder.pickle')\n",
    "print(\"Label encoder saved.\")"
   ]
  },
  {
   "cell_type": "code",
   "execution_count": 4,
   "metadata": {},
   "outputs": [
    {
     "name": "stdout",
     "output_type": "stream",
     "text": [
      "98.30375196585037 % of accurate.\n"
     ]
    }
   ],
   "source": [
    "# Split data into training and testing sets\n",
    "x_train, x_test, y_train, y_test = train_test_split(data, labels, test_size=0.2, shuffle=True, stratify=labels)\n",
    "\n",
    "# Initialize and train the RandomForestClassifier model\n",
    "model = RandomForestClassifier()\n",
    "model.fit(x_train, y_train)\n",
    "\n",
    "# Make predictions on the test set and calculate accuracy\n",
    "y_predict = model.predict(x_test)\n",
    "score = accuracy_score(y_predict, y_test)\n",
    "print('{} % of accurate.'.format(score * 100))"
   ]
  },
  {
   "cell_type": "code",
   "execution_count": 5,
   "metadata": {},
   "outputs": [],
   "source": [
    "import pickle\n",
    "# Save the trained model to a pickle file\n",
    "with open('model.pickle', 'wb') as f:\n",
    "    pickle.dump({'model': model}, f)"
   ]
  },
  {
   "cell_type": "code",
   "execution_count": null,
   "metadata": {},
   "outputs": [],
   "source": []
  },
  {
   "cell_type": "code",
   "execution_count": null,
   "metadata": {},
   "outputs": [],
   "source": []
  }
 ],
 "metadata": {
  "kernelspec": {
   "display_name": "env",
   "language": "python",
   "name": "python3"
  },
  "language_info": {
   "codemirror_mode": {
    "name": "ipython",
    "version": 3
   },
   "file_extension": ".py",
   "mimetype": "text/x-python",
   "name": "python",
   "nbconvert_exporter": "python",
   "pygments_lexer": "ipython3",
   "version": "3.10.5"
  }
 },
 "nbformat": 4,
 "nbformat_minor": 2
}
